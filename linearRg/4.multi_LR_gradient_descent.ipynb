{
 "cells": [
  {
   "cell_type": "code",
   "execution_count": 1,
   "id": "1f293f4a",
   "metadata": {},
   "outputs": [],
   "source": [
    "import numpy as np\n",
    "import matplotlib.pyplot as plt\n",
    "from utils import *\n",
    "import copy\n",
    "import math"
   ]
  },
  {
   "cell_type": "markdown",
   "id": "33989df1",
   "metadata": {},
   "source": [
    "- Problem Statement\n",
    "As CEO of a restaurant franchise, you want to expand into cities with the highest profit potential. You have data on existing outlets (city population and profit) and candidate cities (population only). The task is to use this data to predict which new cities are likely to be profitable.\n",
    "\n",
    "- Dataset\n",
    "The load_data() function provides:\n",
    "\n",
    "x_train: city populations\n",
    "\n",
    "y_train: restaurant profits (negative = loss)\n",
    "\n",
    "Both are NumPy arrays."
   ]
  },
  {
   "cell_type": "code",
   "execution_count": 2,
   "id": "cc04aab1",
   "metadata": {},
   "outputs": [],
   "source": [
    "\n",
    "# Load the fake dataset\n",
    "x_train, y_train = load_data()"
   ]
  },
  {
   "cell_type": "code",
   "execution_count": 5,
   "id": "6fbdc1e8",
   "metadata": {},
   "outputs": [
    {
     "name": "stdout",
     "output_type": "stream",
     "text": [
      "Type of x_train: <class 'numpy.ndarray'>\n"
     ]
    }
   ],
   "source": [
    "print(\"Type of x_train:\",type(x_train))"
   ]
  },
  {
   "cell_type": "markdown",
   "id": "444ff862",
   "metadata": {},
   "source": [
    "## Restaurant Franchise Dataset\n",
    "I made this fake dataset only for practice purposes. The coursera course used different dataset but I didn't want to use it here, so I create mine.\n",
    "This dataset simulates a restaurant franchise expansion problem with the following characteristics:\n",
    "\n",
    "- **Features (x_train)**: City populations in thousands (10k - 1000k people)\n",
    "- **Target (y_train)**: Restaurant profits in thousands of dollars (negative values = losses)\n",
    "- **Size**: 100 cities\n",
    "- **Distribution**: More small cities than large ones (exponential distribution)\n",
    "- **Realism**: ~20% of restaurants operate at a loss due to local competition and factors\n",
    "\n",
    "The relationship shows that profit generally increases with population but with diminishing returns - larger cities don't guarantee proportionally higher profits."
   ]
  },
  {
   "cell_type": "code",
   "execution_count": 4,
   "id": "7aaf2e50",
   "metadata": {},
   "outputs": [
    {
     "name": "stdout",
     "output_type": "stream",
     "text": [
      "Dataset contains 100 examples\n",
      "------------------------------\n",
      "Population(k) | Profit(k$)\n",
      "------------------------------\n",
      "      33.5 |     69.1\n",
      "     160.5 |    116.1\n",
      "      75.8 |     89.5\n",
      "      55.6 |     17.6\n",
      "      18.5 |    -35.8\n",
      "      18.5 |     69.9\n",
      "      13.0 |    100.8\n",
      "     110.6 |    -19.7\n",
      "      56.0 |     53.1\n",
      "      71.6 |    -49.4\n",
      "      11.0 |     83.0\n",
      "     185.2 |    145.6\n",
      "      99.3 |     81.8\n",
      "      21.9 |     76.3\n",
      "      20.0 |    -45.4\n",
      "... and 85 more examples\n",
      "------------------------------\n",
      "Population range: 10.3k to 226.7k\n",
      "Profit range: $-49.4k to $158.3k\n"
     ]
    }
   ],
   "source": [
    "print_data(x_train, y_train, num_examples=15)"
   ]
  },
  {
   "cell_type": "markdown",
   "id": "0e6da44a",
   "metadata": {},
   "source": [
    "## Dataset Shape Analysis\n",
    "\n",
    "This code examines the dimensions of our training data:\n",
    "\n",
    "- **x_train.shape**: Shows the shape of input features (city populations)\n",
    "- **y_train.shape**: Shows the shape of target values (restaurant profits) \n",
    "- **len(x_train)**: Counts the total number of training examples (m)\n",
    "\n",
    "For linear regression, we expect:\n",
    "- x_train and y_train to have the same number of samples\n",
    "- Both to be 1D arrays (shape = (m,))\n",
    "- This gives us m training examples to learn from"
   ]
  },
  {
   "cell_type": "markdown",
   "id": "13a64f23",
   "metadata": {},
   "source": [
    "### Understanding `.shape` in NumPy\n",
    "\n",
    "The `.shape` attribute in NumPy shows the **dimensions** of an array — that is, how many rows (samples) and columns (features) it has.\n",
    "\n",
    "For example:\n",
    "\n",
    "```python\n",
    "import numpy as np\n",
    "\n",
    "# 1D array\n",
    "a = np.array([10, 20, 30])\n",
    "print(a.shape)   # (3,)\n",
    "\n",
    "# 2D array (3 rows × 2 columns)\n",
    "b = np.array([[1, 2],\n",
    "              [3, 4],\n",
    "              [5, 6]])\n",
    "print(b.shape)   # (3, 2)"
   ]
  },
  {
   "cell_type": "code",
   "execution_count": 7,
   "id": "b7c71e24",
   "metadata": {},
   "outputs": [
    {
     "name": "stdout",
     "output_type": "stream",
     "text": [
      "x_train shape: (100,)\n",
      "y_train shape:  (100,)\n",
      "This is the number of training examples(m): 100\n"
     ]
    }
   ],
   "source": [
    "print ('x_train shape:', x_train.shape)\n",
    "print ('y_train shape: ', y_train.shape)\n",
    "print ('This is the number of training examples(m):', len(x_train))"
   ]
  },
  {
   "cell_type": "markdown",
   "id": "7688493d",
   "metadata": {},
   "source": [
    "## Data Visualization\n",
    "\n",
    "This code creates a scatter plot to visualize the relationship between city population and restaurant profits:\n",
    "\n",
    "- `plt.scatter(x_train, y_train, marker='x', c='r')`: Creates a scatter plot with red 'x' markers showing population (x-axis) vs profit (y-axis)\n",
    "- `plt.title()`, `plt.xlabel()`, `plt.ylabel()`: Set plot title and axis labels\n",
    "- `plt.show()`: Displays the plot\n",
    "\n",
    "The plot helps visualize the dataset and understand the relationship between city size and restaurant profitability before applying linear regression."
   ]
  },
  {
   "cell_type": "code",
   "execution_count": null,
   "id": "8a1468f3",
   "metadata": {},
   "outputs": [
    {
     "data": {
      "image/png": "[encoded data removed]",
      "text/plain": [
       "<Figure size 640x480 with 1 Axes>"
      ]
     },
     "metadata": {},
     "output_type": "display_data"
    }
   ],
   "source": [
    "# \n",
    "plt.scatter(x_train, y_train, marker='x', c='r') \n",
    "\n",
    "# Set the title\n",
    "plt.title(\"Profits vs. Population per city\")\n",
    "# Set the y-axis label\n",
    "plt.ylabel('Profit in $10,000')\n",
    "# Set the x-axis label\n",
    "plt.xlabel('Population of City in 10,000s')\n",
    "plt.show()"
   ]
  },
  {
   "cell_type": "markdown",
   "id": "d421c2d8",
   "metadata": {},
   "source": [
    "Now we want to build a linear regression model that fits the data. This model will allow us to input a city’s population and estimate its expected monthly profit."
   ]
  },
  {
   "cell_type": "markdown",
   "id": "93afb808",
   "metadata": {},
   "source": [
    "## Refresher on Linear Regression\n",
    "\n",
    "Now, we fit the linear regression parameters **(w, b)** to our dataset.\n",
    "\n",
    "The model maps input **x** (city population) to output **y** (monthly profit) as:\n",
    "\n",
    "$$\n",
    "f_{w,b}(x) = wx + b\n",
    "$$\n",
    "Our goal is to find the parameters **(w, b)** that best fit the data by minimizing the **cost function** \\( J(w,b) \\), which measures how well the model predicts actual values.\n",
    "\n",
    "We use **gradient descent** to iteratively adjust **(w, b)** toward the values that minimize \\( J(w,b) \\).  \n",
    "Once trained, the model can predict a city’s expected profit from its population.\n"
   ]
  },
  {
   "cell_type": "markdown",
   "id": "91830e5e",
   "metadata": {},
   "source": [
    "## Compute Cost\n",
    "\n",
    "Now we want to calculate the **cost function** $J(w, b)$ to track how well our model fits the data as we update parameters $w$ and $b$ during gradient descent.\n",
    "\n",
    "The **cost function** measures the average squared difference between predicted and actual values:\n",
    "\n",
    "$$\n",
    "J(w,b) = \\frac{1}{2m} \\sum_{i=0}^{m-1} (f_{w,b}(x^{(i)}) - y^{(i)})^2\n",
    "$$\n",
    "\n",
    "where:\n",
    "- $m$: number of training examples  \n",
    "- $f_{w,b}(x^{(i)})$: model prediction  \n",
    "- $y^{(i)}$: actual value  \n",
    "\n",
    "For linear regression with one variable:\n",
    "\n",
    "$$\n",
    "f_{w,b}(x^{(i)}) = w x^{(i)} + b\n",
    "$$\n",
    "\n",
    "You will now implement `compute_cost()` to calculate $J(w, b)$ and monitor training progress."
   ]
  },
  {
   "cell_type": "markdown",
   "id": "a34f38b1",
   "metadata": {},
   "source": [
    "### Exercise 1\n",
    "\n",
    "Now we want to complete the `compute_cost` function.\n",
    "\n",
    "- For each training example:\n",
    "  - Compute the model prediction:  \n",
    "    $$\n",
    "    f_{wb}(x^{(i)}) = wx^{(i)} + b\n",
    "    $$\n",
    "  - Compute the example cost:  \n",
    "    $$\n",
    "    cost^{(i)} = (f_{wb}(x^{(i)}) - y^{(i)})^2\n",
    "    $$\n",
    "\n",
    "- Finally, return the total cost over all examples:  \n",
    "  $$\n",
    "  J(w,b) = \\frac{1}{2m} \\sum_{i=0}^{m-1} cost^{(i)}\n",
    "  $$\n",
    "  \n",
    "Here, $m$ is the number of training examples. If you get stuck, check the hints provided below.\n"
   ]
  },
  {
   "cell_type": "markdown",
   "id": "66ebd7d5",
   "metadata": {},
   "source": [
    "- (Check the cost_compute() func in the utils.py file)"
   ]
  },
  {
   "cell_type": "code",
   "execution_count": 20,
   "id": "392bdf05",
   "metadata": {},
   "outputs": [],
   "source": [
    "# this is another version of the cost_compute() func in the utils.py file\n",
    "# only for practice purposes\n",
    "\n",
    "def comp_cost(x, y, w, b):\n",
    "    m = len(x)\n",
    "    final_cost = 0\n",
    "    cost_sum = 0\n",
    "\n",
    "    for i in range(m):\n",
    "        f_wb = w*x[i] + b\n",
    "        cost = (f_wb -y[i])**2 # y[i] is the actual value\n",
    "        sum_cost += cost\n",
    "    final_cost = (1/(2*m))*sum_cost\n",
    "    return final_cost\n"
   ]
  },
  {
   "cell_type": "markdown",
   "id": "83b25aa0",
   "metadata": {},
   "source": [
    "- Test"
   ]
  },
  {
   "cell_type": "code",
   "execution_count": 21,
   "id": "84904d19",
   "metadata": {},
   "outputs": [
    {
     "name": "stdout",
     "output_type": "stream",
     "text": [
      "<class 'numpy.float64'>\n",
      "cost if w and b are 4 and 3: 31133.776\n"
     ]
    }
   ],
   "source": [
    "# here we define w and b:\n",
    "initial_b = 3\n",
    "initial_w = 4\n",
    "cost = compute_cost(x_train, y_train, initial_w, initial_b)\n",
    "print(type(cost))\n",
    "print(f'cost if w and b are {initial_w} and {initial_b}: {cost:.3f}')\n",
    "\n"
   ]
  },
  {
   "cell_type": "markdown",
   "id": "f932bf11",
   "metadata": {},
   "source": [
    "### Gradient Descent Overview\n",
    "\n",
    "We now want to implement gradient descent, which iteratively updates parameters **w** and **b** to minimize the cost function.\n",
    "\n",
    "The update rules are:\n",
    "\n",
    "$$\n",
    "\\begin{align*}\n",
    "& \\text{repeat until convergence:} \\; \\lbrace \\\\\n",
    "& \\quad b := b - \\alpha \\frac{\\partial J(w,b)}{\\partial b} \\\\\n",
    "& \\quad w := w - \\alpha \\frac{\\partial J(w,b)}{\\partial w} \\\\\n",
    "& \\rbrace\n",
    "\\end{align*}\n",
    "$$\n",
    "\n",
    "The gradients are defined as:\n",
    "\n",
    "$$\n",
    "\\frac{\\partial J(w,b)}{\\partial b} = \\frac{1}{m} \\sum_{i=0}^{m-1} (f_{w,b}(x^{(i)}) - y^{(i)})\n",
    "$$\n",
    "\n",
    "$$\n",
    "\\frac{\\partial J(w,b)}{\\partial w} = \\frac{1}{m} \\sum_{i=0}^{m-1} (f_{w,b}(x^{(i)}) - y^{(i)})x^{(i)}\n",
    "$$\n",
    "\n",
    "where:\n",
    "- \\( m \\): number of training examples  \n",
    "- \\( f_{w,b}(x^{(i)}) \\): model prediction  \n",
    "- \\( y^{(i)} \\): true target value  \n",
    "\n",
    "You will now implement **`compute_gradient`**, which returns  \n",
    "\\(\\frac{\\partial J(w,b)}{\\partial w}\\) and \\(\\frac{\\partial J(w,b)}{\\partial b}\\).\n"
   ]
  },
  {
   "cell_type": "markdown",
   "id": "13404d0a",
   "metadata": {},
   "source": [
    "### Exercise 2\n",
    "\n",
    "Now we want to complete the `compute_gradient` function. For each training example, you will:\n",
    "\n",
    "1. Compute the model prediction  \n",
    "   $$\n",
    "   f_{w,b}(x^{(i)}) = wx^{(i)} + b\n",
    "   $$\n",
    "\n",
    "2. Compute the gradients for each parameter  \n",
    "   $$\n",
    "   \\frac{\\partial J(w,b)}{\\partial b}^{(i)} = f_{w,b}(x^{(i)}) - y^{(i)}\n",
    "   $$\n",
    "   $$\n",
    "   \\frac{\\partial J(w,b)}{\\partial w}^{(i)} = (f_{w,b}(x^{(i)}) - y^{(i)})x^{(i)}\n",
    "   $$\n",
    "\n",
    "3. Average the gradients over all training examples  \n",
    "   $$\n",
    "   \\frac{\\partial J(w,b)}{\\partial b} = \\frac{1}{m}\\sum_{i=0}^{m-1}\\frac{\\partial J(w,b)}{\\partial b}^{(i)}\n",
    "   $$\n",
    "   $$\n",
    "   \\frac{\\partial J(w,b)}{\\partial w} = \\frac{1}{m}\\sum_{i=0}^{m-1}\\frac{\\partial J(w,b)}{\\partial w}^{(i)}\n",
    "   $$\n",
    "\n",
    "Here, $m$ is the number of training examples and $\\sum$ denotes summation.\n"
   ]
  },
  {
   "cell_type": "code",
   "execution_count": 22,
   "id": "66a65592",
   "metadata": {},
   "outputs": [],
   "source": [
    "def compute_gradient(x, y, w, b): \n",
    "    \"\"\"\n",
    "    Computes the gradient for linear regression \n",
    "    Args:\n",
    "      x (ndarray): Shape (m,) Input to the model (Population of cities) \n",
    "      y (ndarray): Shape (m,) Label (Actual profits for the cities)\n",
    "      w, b (scalar): Parameters of the model  \n",
    "    Returns\n",
    "      dj_dw (scalar): The gradient of the cost w.r.t. the parameters w\n",
    "      dj_db (scalar): The gradient of the cost w.r.t. the parameter b     \n",
    "     \"\"\"\n",
    "    \n",
    "    # Number of training examples\n",
    "    m = x.shape[0]\n",
    "    \n",
    "    # You need to return the following variables correctly\n",
    "    dj_dw = 0\n",
    "    dj_db = 0\n",
    "    \n",
    "    \n",
    "    ### START CODE HERE ###\n",
    "    dj_dw_sum = 0\n",
    "    dj_db_sum = 0\n",
    "    \n",
    "    for i in range (m):\n",
    "        f_wb = w * x[i] + b\n",
    "        dj_dw = (f_wb - y[i]) * x[i]\n",
    "        dj_db = (f_wb - y[i]) \n",
    "        dj_dw_sum = dj_dw_sum + dj_dw\n",
    "        dj_db_sum = dj_db_sum + dj_db\n",
    "        \n",
    "    dj_dw = (1/m) * dj_dw_sum\n",
    "    dj_db = (1/m) * dj_db_sum\n",
    "    \n",
    "    ### END CODE HERE ### \n",
    "        \n",
    "    return dj_dw, dj_db"
   ]
  },
  {
   "cell_type": "markdown",
   "id": "45a22553",
   "metadata": {},
   "source": [
    "- Test\n"
   ]
  },
  {
   "cell_type": "code",
   "execution_count": null,
   "id": "52b8ebe4",
   "metadata": {},
   "outputs": [
    {
     "name": "stdout",
     "output_type": "stream",
     "text": [
      "Gradient at initial w, b (zeros): -3489.2310379330384 -56.967626447818766\n"
     ]
    }
   ],
   "source": [
    "# Compute and display gradient with w initialized to zeroes\n",
    "initial_w = 0\n",
    "initial_b = 0\n",
    "\n",
    "tmp_dj_dw, tmp_dj_db = compute_gradient(x_train, y_train, initial_w, initial_b)\n",
    "print('Gradient at initial w, b (zeros):', tmp_dj_dw, tmp_dj_db)\n"
   ]
  },
  {
   "cell_type": "code",
   "execution_count": 25,
   "id": "ed90df48",
   "metadata": {},
   "outputs": [
    {
     "name": "stdout",
     "output_type": "stream",
     "text": [
      "Gradient at test w, b: -2437.9792138213134 -45.62014605743004\n"
     ]
    }
   ],
   "source": [
    "# Compute and display cost and gradient with non-zero w\n",
    "test_w = 0.2\n",
    "test_b = 0.2\n",
    "tmp_dj_dw, tmp_dj_db = compute_gradient(x_train, y_train, test_w, test_b)\n",
    "\n",
    "print('Gradient at test w, b:', tmp_dj_dw, tmp_dj_db)"
   ]
  },
  {
   "cell_type": "markdown",
   "id": "c0a25391",
   "metadata": {},
   "source": [
    "### Batch Gradient Descent for Linear Regression\n",
    "\n",
    "Now we want to find the **optimal parameters** of a linear regression model using **batch gradient descent**, which updates parameters after evaluating **all training examples** in each step.\n",
    "\n",
    "\n",
    "\n",
    "To confirm gradient descent works correctly, observe the **cost function** \\( J(w, b) \\):\n",
    "- It should **decrease** with each iteration.\n",
    "- If the **gradient** and **cost** are implemented correctly and the **learning rate (α)** is appropriate, \\( J(w, b) \\) will never increase and will eventually **converge** to a steady value.\n"
   ]
  },
  {
   "cell_type": "code",
   "execution_count": null,
   "id": "f18ef734",
   "metadata": {},
   "outputs": [],
   "source": [
    "def gradient_descent(x, y, w_in, b_in, cost_function, gradient_function, alpha, num_iters): \n",
    "    \"\"\"\n",
    "    Performs batch gradient descent to optimize parameters (w, b).\n",
    "\n",
    "    Args:\n",
    "      x (ndarray): Feature data, shape (m,)\n",
    "      y (ndarray): Target values, shape (m,)\n",
    "      w_in, b_in (scalars): Initial parameter values\n",
    "      cost_function (function): Computes cost J(w, b)\n",
    "      gradient_function (function): Computes gradients for w and b\n",
    "      alpha (float): Learning rate\n",
    "      num_iters (int): Number of iterations\n",
    "\n",
    "    Returns:\n",
    "      w (float): Final optimized weight\n",
    "      b (float): Final optimized bias\n",
    "      J_history (list): Cost at each iteration\n",
    "      w_history (list): Weight values tracked for plotting\n",
    "    \"\"\"\n",
    "    \n",
    "    # Number of training examples\n",
    "    m = len(x)\n",
    "    \n",
    "    # Track cost and parameter values for analysis\n",
    "    J_history = []\n",
    "    w_history = []\n",
    "\n",
    "    # Create copies to avoid modifying original parameters\n",
    "    w = copy.deepcopy(w_in)\n",
    "    b = b_in\n",
    "    \n",
    "    for i in range(num_iters):\n",
    "\n",
    "        # Compute gradients\n",
    "        dj_dw, dj_db = gradient_function(x, y, w, b)\n",
    "\n",
    "        # Update parameters\n",
    "        w = w - alpha * dj_dw\n",
    "        b = b - alpha * dj_db\n",
    "\n",
    "        # Record cost at each iteration\n",
    "        if i < 100000:  # limit memory usage\n",
    "            cost = cost_function(x, y, w, b)\n",
    "            J_history.append(cost)\n",
    "\n",
    "        # Display progress every 10% of total iterations\n",
    "        # because we have 100000 iterations, so it will display every 10000 iterations\n",
    "        # math.ceil() is used to round up to the nearest integer\n",
    "        if i % math.ceil(num_iters / 10) == 0:\n",
    "            w_history.append(w)\n",
    "            print(f\"Iteration {i:4}: Cost {float(J_history[-1]):8.2f}\")\n",
    "        \n",
    "    return w, b, J_history, w_history\n"
   ]
  },
  {
   "cell_type": "markdown",
   "id": "0af7cdc8",
   "metadata": {},
   "source": [
    "Now we’ll run the gradient descent algorithm to train our dataset parameters."
   ]
  },
  {
   "cell_type": "code",
   "execution_count": 30,
   "id": "89f4d850",
   "metadata": {},
   "outputs": [
    {
     "name": "stdout",
     "output_type": "stream",
     "text": [
      "Iteration    0: Cost  2082.97\n",
      "Iteration  150: Cost  1807.66\n",
      "Iteration  300: Cost  1802.02\n",
      "Iteration  450: Cost  1796.45\n",
      "Iteration  600: Cost  1790.95\n",
      "Iteration  750: Cost  1785.51\n",
      "Iteration  900: Cost  1780.13\n",
      "Iteration 1050: Cost  1774.82\n",
      "Iteration 1200: Cost  1769.58\n",
      "Iteration 1350: Cost  1764.40\n",
      "Parameters found by gradient descent: w = 0.6403744462986792 , b = 2.8553044390062596\n"
     ]
    }
   ],
   "source": [
    "# Initialize model parameters (w: weights, b: bias)\n",
    "# w has shape (n,), where n is the number of features\n",
    "initial_w = 0.\n",
    "initial_b = 0.\n",
    "\n",
    "# Set hyperparameters for gradient descent\n",
    "iterations = 1500\n",
    "alpha = 0.0001   # learning rate\n",
    "\n",
    "# Run batch gradient descent to find optimal w and b\n",
    "# w, b, _, _ : _ is a dummy variable because we don't need the other outputs\n",
    "w, b, _, _ = gradient_descent(x_train, y_train, initial_w, initial_b,\n",
    "                              compute_cost, compute_gradient, alpha, iterations)\n",
    "\n",
    "print(\"Parameters found by gradient descent: w =\", w, \", b =\", b)"
   ]
  },
  {
   "cell_type": "markdown",
   "id": "c84d24e8",
   "metadata": {},
   "source": [
    "### Plotting the Linear Fit\n",
    "\n",
    "Now we want to use the final parameters from gradient descent to plot the linear fit.\n",
    "\n",
    "The prediction for a single example is given by:\n",
    "\n",
    "$$ f(x^{(i)}) = w \\cdot x^{(i)} + b $$\n",
    "\n",
    "To make predictions for the entire dataset, we calculate this value for each training example, as shown in the code below.\n"
   ]
  },
  {
   "cell_type": "code",
   "execution_count": null,
   "id": "2bbe3214",
   "metadata": {},
   "outputs": [],
   "source": [
    "# Notice, w and b are updated with the final values from gradient descent\n",
    "# in the previous cell!\n",
    "m = x_train.shape[0] # number of training examples. Alternative: m = len(x_train)\n",
    "predicted = np.zeros(m)\n",
    "\n",
    "for i in range(m):\n",
    "    predicted[i] = w * x_train[i] + b"
   ]
  },
  {
   "cell_type": "markdown",
   "id": "81a675a4",
   "metadata": {},
   "source": [
    "- Plot\n"
   ]
  },
  {
   "cell_type": "markdown",
   "id": "2a16b079",
   "metadata": {},
   "source": [
    "### Visualizing the Linear Fit\n",
    "\n",
    "Now we want to **visualize the relationship** between population ($x$) and profit ($y$).  \n",
    "We plot the **training data** as red crosses and overlay the **predicted linear fit** in blue.  \n",
    "This helps us see how well the model captures the trend between population and profit:\n",
    "\n"
   ]
  },
  {
   "cell_type": "code",
   "execution_count": 35,
   "id": "785bef27",
   "metadata": {},
   "outputs": [
    {
     "data": {
      "text/plain": [
       "Text(0.5, 0, 'Population of City (in 10,000s)')"
      ]
     },
     "execution_count": 35,
     "metadata": {},
     "output_type": "execute_result"
    },
    {
     "data": {
      "image/png": "[encoded data removed]",
      "text/plain": [
       "<Figure size 640x480 with 1 Axes>"
      ]
     },
     "metadata": {},
     "output_type": "display_data"
    }
   ],
   "source": [
    "# Plot the predicted linear regression line\n",
    "plt.plot(x_train, predicted, c=\"b\")\n",
    "\n",
    "# Plot the training data as red scatter points\n",
    "plt.scatter(x_train, y_train, marker='x', c='r')\n",
    "\n",
    "# Add a chart title\n",
    "plt.title(\"Profits vs. Population per City\")\n",
    "\n",
    "# Label the y-axis\n",
    "plt.ylabel(\"Profit (in $10,000s)\")\n",
    "\n",
    "# Label the x-axis\n",
    "plt.xlabel(\"Population of City (in 10,000s)\")\n"
   ]
  },
  {
   "cell_type": "markdown",
   "id": "82c492f5",
   "metadata": {},
   "source": [
    "## Model Performance Analysis\n",
    "\n",
    "### Current Issue: Poor Model Fit\n",
    "\n",
    "The linear regression model is not fitting the data that well, as evidenced by the scatter plot showing significant deviations between the predicted line and actual data points. The model struggles to capture the underlying relationship between city population and restaurant profits.\n",
    "\n",
    "### Potential Solutions\n",
    "\n",
    "#### 1. **Data Normalization**\n",
    "- **Problem**: The features (population: 0-220) and target (profit: -50 to 150) are on vastly different scales\n",
    "- **Solution**: Normalize the input features using Z-score normalization: `x_norm = (x - mean) / std`\n",
    "- **Benefits**: \n",
    "  - Faster convergence during gradient descent\n",
    "  - More stable numerical computations\n",
    "  - Allows for larger learning rates without overflow\n",
    "  - Prevents gradient explosion/vanishing\n",
    "\n",
    "#### 2. **Outlier Removal (Data Cleaning)**\n",
    "- **Problem**: Negative profit values represent failed restaurants that don't follow the normal business pattern\n",
    "- **Solution**: Remove data points where `profit < 0` or use robust statistical methods (MAD, IQR) to detect outliers\n",
    "- **Benefits**:\n",
    "  - Eliminates noise from atypical business cases\n",
    "  - Allows the model to focus on successful restaurant patterns\n",
    "  - Improves model fit for the majority of data points\n",
    "  - Reduces the influence of extreme values on parameter estimation\n",
    "\n",
    "### Recommended Approach\n",
    "\n",
    "Both solutions are valid and can be used together:\n",
    "1. **First**: Clean the dataset by removing profit outliers (Those kinds of data that are so different from the other points)\n",
    "2. **Second**: Apply normalization to the cleaned dataset\n",
    "3. **Result**: A more robust model that fits the majority of successful restaurant patterns\n",
    "\n",
    "This combination addresses both the scale mismatch issue and the presence of anomalous data points that don't represent typical restaurant success patterns."
   ]
  },
  {
   "cell_type": "markdown",
   "id": "d9a433ab",
   "metadata": {},
   "source": []
  }
 ],
 "metadata": {
  "kernelspec": {
   "display_name": "ml_env",
   "language": "python",
   "name": "python3"
  },
  "language_info": {
   "codemirror_mode": {
    "name": "ipython",
    "version": 3
   },
   "file_extension": ".py",
   "mimetype": "text/x-python",
   "name": "python",
   "nbconvert_exporter": "python",
   "pygments_lexer": "ipython3",
   "version": "3.13.2"
  }
 },
 "nbformat": 4,
 "nbformat_minor": 5
}
