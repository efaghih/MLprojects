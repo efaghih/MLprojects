{
 "cells": [
  {
   "cell_type": "markdown",
   "id": "a030da95",
   "metadata": {},
   "source": [
    "Matrix operations "
   ]
  },
  {
   "cell_type": "code",
   "execution_count": 1,
   "id": "81073827",
   "metadata": {},
   "outputs": [],
   "source": [
    "import numpy as np    # it is an unofficial standard to use np for numpy\n",
    "import time"
   ]
  },
  {
   "cell_type": "code",
   "execution_count": 2,
   "id": "480cc1b3",
   "metadata": {},
   "outputs": [
    {
     "name": "stdout",
     "output_type": "stream",
     "text": [
      "a shape = (1, 5), a = [[0. 0. 0. 0. 0.]]\n",
      "a shape = (2, 1), a = [[0.]\n",
      " [0.]]\n",
      "a shape = (1, 1), a = [[0.42004713]]\n",
      "a shape = (3, 4), a = [[0. 0. 0. 0.]\n",
      " [0. 0. 0. 0.]\n",
      " [0. 0. 0. 0.]]\n",
      "a shape = (2, 3), a = [[0.99895059 0.11048141 0.3499671 ]\n",
      " [0.5716996  0.93916629 0.2282278 ]]\n"
     ]
    }
   ],
   "source": [
    "# Creating 2D arrays with different shapes using NumPy\n",
    "# Each example demonstrates how shape parameters affect array dimensions\n",
    "\n",
    "# Example 1: Create a 1x5 array (1 row, 5 columns) filled with zeros\n",
    "a = np.zeros((1, 5))                                       \n",
    "print(f\"a shape = {a.shape}, a = {a}\")                     \n",
    "\n",
    "# Example 2: Create a 2x1 array (2 rows, 1 column) filled with zeros\n",
    "a = np.zeros((2, 1))                                                                   \n",
    "print(f\"a shape = {a.shape}, a = {a}\") \n",
    "\n",
    "# Example 3: Create a 1x1 array (single element) with random value between 0 and 1\n",
    "a = np.random.random_sample((1, 1))  \n",
    "print(f\"a shape = {a.shape}, a = {a}\") \n",
    "\n",
    "# Example 4: Create a 3x4 array (3 rows, 4 columns) filled with zeros\n",
    "a = np.zeros((3, 4))\n",
    "print(f\"a shape = {a.shape}, a = {a}\")\n",
    "\n",
    "# Example 5: Create a 2x3 array (2 rows, 3 columns) with random values\n",
    "a = np.random.random_sample((2, 3))\n",
    "print(f\"a shape = {a.shape}, a = {a}\")"
   ]
  },
  {
   "cell_type": "code",
   "execution_count": 3,
   "id": "a7b214d7",
   "metadata": {},
   "outputs": [
    {
     "name": "stdout",
     "output_type": "stream",
     "text": [
      " a shape = (3, 1), np.array: a = [[5]\n",
      " [4]\n",
      " [3]]\n",
      " a shape = (3, 1), np.array: a = [[5]\n",
      " [4]\n",
      " [3]]\n"
     ]
    }
   ],
   "source": [
    "# NumPy routines which allocate memory and fill with user specified values\n",
    "a = np.array([[5], [4], [3]]);   print(f\" a shape = {a.shape}, np.array: a = {a}\")\n",
    "a = np.array([[5],   # One can also\n",
    "              [4],   # separate values\n",
    "              [3]]); #into separate rows\n",
    "print(f\" a shape = {a.shape}, np.array: a = {a}\")"
   ]
  },
  {
   "cell_type": "code",
   "execution_count": 4,
   "id": "d2977b06",
   "metadata": {},
   "outputs": [
    {
     "name": "stdout",
     "output_type": "stream",
     "text": [
      "matrix.shape: (4, 3), \n",
      "matrix = \n",
      "[[ 0  1  2]\n",
      " [ 3  4  5]\n",
      " [ 6  7  8]\n",
      " [ 9 10 11]]\n",
      "\n",
      "matrix[1,2].shape: (), matrix[1,2] = 5, type(matrix[1,2]) = <class 'numpy.int64'> - Single element access returns a scalar\n",
      "matrix[2].shape: (3,), matrix[2] = [6 7 8], type(matrix[2]) = <class 'numpy.ndarray'> - Row access returns a 1D array\n",
      "\n",
      "matrix[:, 1].shape: (4,), matrix[:, 1] = [ 1  4  7 10], type(matrix[:, 1]) = <class 'numpy.ndarray'> - Column access using slicing\n",
      "matrix[1:3, 0:2].shape: (2, 2), matrix[1:3, 0:2] = \n",
      "[[3 4]\n",
      " [6 7]], type(matrix[1:3, 0:2]) = <class 'numpy.ndarray'> - Submatrix extraction\n"
     ]
    }
   ],
   "source": [
    "# Matrix indexing operations and element access demonstrations\n",
    "# Creating a 3x2 matrix using reshape for better visualization\n",
    "matrix = np.arange(12).reshape(-1, 3)   # reshape creates a 4x3 matrix from 12 elements\n",
    "print(f\"matrix.shape: {matrix.shape}, \\nmatrix = \\n{matrix}\")\n",
    "\n",
    "# Accessing individual elements using row, column indexing\n",
    "print(f\"\\nmatrix[1,2].shape: {matrix[1, 2].shape}, matrix[1,2] = {matrix[1, 2]}, type(matrix[1,2]) = {type(matrix[1, 2])} - Single element access returns a scalar\")\n",
    "\n",
    "# Accessing entire rows using single index\n",
    "print(f\"matrix[2].shape: {matrix[2].shape}, matrix[2] = {matrix[2]}, type(matrix[2]) = {type(matrix[2])} - Row access returns a 1D array\")\n",
    "\n",
    "# Additional practice 1: Column access using slicing\n",
    "print(f\"\\nmatrix[:, 1].shape: {matrix[:, 1].shape}, matrix[:, 1] = {matrix[:, 1]}, type(matrix[:, 1]) = {type(matrix[:, 1])} - Column access using slicing\")\n",
    "\n",
    "# Additional practice 2: Submatrix extraction using slicing\n",
    "print(f\"matrix[1:3, 0:2].shape: {matrix[1:3, 0:2].shape}, matrix[1:3, 0:2] = \\n{matrix[1:3, 0:2]}, type(matrix[1:3, 0:2]) = {type(matrix[1:3, 0:2])} - Submatrix extraction\")"
   ]
  },
  {
   "cell_type": "code",
   "execution_count": 5,
   "id": "7a00b44f",
   "metadata": {},
   "outputs": [
    {
     "name": "stdout",
     "output_type": "stream",
     "text": [
      "a = \n",
      "[[ 0  1  2  3  4  5  6  7  8  9 10 11 12 13 14]\n",
      " [15 16 17 18 19 20 21 22 23 24 25 26 27 28 29]]\n",
      "a[0, 3:9:1] =  [3 4 5 6 7 8] ,  a[0, 3:9:1].shape = (6,) a 1-D array\n",
      "a[:, 3:9:1] = \n",
      " [[ 3  4  5  6  7  8]\n",
      " [18 19 20 21 22 23]] ,  a[:, 3:9:1].shape = (2, 6) a 2-D array\n",
      "a[:,:] = \n",
      " [[ 0  1  2  3  4  5  6  7  8  9 10 11 12 13 14]\n",
      " [15 16 17 18 19 20 21 22 23 24 25 26 27 28 29]] ,  a[:,:].shape = (2, 15)\n",
      "a[1,:] =  [15 16 17 18 19 20 21 22 23 24 25 26 27 28 29] ,  a[1,:].shape = (15,) a 1-D array\n",
      "a[1]   =  [15 16 17 18 19 20 21 22 23 24 25 26 27 28 29] ,  a[1].shape   = (15,) a 1-D array\n",
      "a[0, ::2] =  [ 0  2  4  6  8 10 12 14] ,  a[0, ::2].shape = (8,) a 1-D array with step=2\n",
      "a[:, 5:12:2] = \n",
      " [[ 5  7  9 11]\n",
      " [20 22 24 26]] ,  a[:, 5:12:2].shape = (2, 4) a 2-D array with step=2\n"
     ]
    }
   ],
   "source": [
    "# 2-D array slicing operations with different sample data\n",
    "a = np.arange(30).reshape(-1, 15)  # Create 2x15 array with numbers 0-29\n",
    "print(f\"a = \\n{a}\")\n",
    "\n",
    "# Extract 6 consecutive elements from the first row (start:stop:step)\n",
    "print(\"a[0, 3:9:1] = \", a[0, 3:9:1], \",  a[0, 3:9:1].shape =\", a[0, 3:9:1].shape, \"a 1-D array\")\n",
    "\n",
    "# Extract 6 consecutive elements from all rows (start:stop:step)\n",
    "print(\"a[:, 3:9:1] = \\n\", a[:, 3:9:1], \",  a[:, 3:9:1].shape =\", a[:, 3:9:1].shape, \"a 2-D array\")\n",
    "\n",
    "# Access all elements in the entire array\n",
    "print(\"a[:,:] = \\n\", a[:,:], \",  a[:,:].shape =\", a[:,:].shape)\n",
    "\n",
    "# Access all elements in the second row (very common usage)\n",
    "print(\"a[1,:] = \", a[1,:], \",  a[1,:].shape =\", a[1,:].shape, \"a 1-D array\")\n",
    "# Same operation using simplified syntax\n",
    "print(\"a[1]   = \", a[1],   \",  a[1].shape   =\", a[1].shape, \"a 1-D array\")\n",
    "\n",
    "# Additional practice: Extract every other element from the first row\n",
    "print(\"a[0, ::2] = \", a[0, ::2], \",  a[0, ::2].shape =\", a[0, ::2].shape, \"a 1-D array with step=2\")\n",
    "\n",
    "# Additional practice: Extract elements from both rows using different ranges\n",
    "print(\"a[:, 5:12:2] = \\n\", a[:, 5:12:2], \",  a[:, 5:12:2].shape =\", a[:, 5:12:2].shape, \"a 2-D array with step=2\")"
   ]
  },
  {
   "cell_type": "code",
   "execution_count": null,
   "id": "a351f2c8",
   "metadata": {},
   "outputs": [],
   "source": []
  }
 ],
 "metadata": {
  "kernelspec": {
   "display_name": "ml_env",
   "language": "python",
   "name": "python3"
  },
  "language_info": {
   "codemirror_mode": {
    "name": "ipython",
    "version": 3
   },
   "file_extension": ".py",
   "mimetype": "text/x-python",
   "name": "python",
   "nbconvert_exporter": "python",
   "pygments_lexer": "ipython3",
   "version": "3.13.2"
  }
 },
 "nbformat": 4,
 "nbformat_minor": 5
}
