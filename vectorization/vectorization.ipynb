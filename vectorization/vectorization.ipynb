{
 "cells": [
  {
   "cell_type": "markdown",
   "id": "16e07a3d",
   "metadata": {},
   "source": [
    "An introduction to the scientific computing concepts used in this course, with a focus on the NumPy package and its applications in Python."
   ]
  },
  {
   "cell_type": "code",
   "execution_count": 1,
   "id": "da2feb8b",
   "metadata": {},
   "outputs": [],
   "source": [
    "import numpy as np    # it is an unofficial standard to use np for numpy\n",
    "import time"
   ]
  },
  {
   "cell_type": "markdown",
   "id": "9a4990ac",
   "metadata": {},
   "source": [
    "[NumPy Documentation](https://numpy.org/)\n",
    " — includes a basic introduction\n",
    "\n",
    "[NumPy Broadcasting](https://numpy.org/doc/stable/user/basics.broadcasting.html)\n",
    " — a more advanced feature topic"
   ]
  },
  {
   "cell_type": "markdown",
   "id": "45d76282",
   "metadata": {},
   "source": [
    "In NumPy, most data creation functions take the shape of the array as their first parameter. For a one-dimensional array, this is simply a single integer. For higher-dimensional arrays, the shape is specified as a tuple (n, m, ...). The examples below demonstrate how to create vectors using these functions."
   ]
  },
  {
   "cell_type": "code",
   "execution_count": 5,
   "id": "4cffa0f3",
   "metadata": {},
   "outputs": [
    {
     "name": "stdout",
     "output_type": "stream",
     "text": [
      "np.zeros(4) :   a = [0. 0. 0. 0.], a shape = (4,), a data type = float64\n",
      "np.zeros(4,) :  a = [0. 0. 0. 0.], a shape = (4,), a data type = float64\n",
      "np.random.random_sample(4): a = [0.98801827 0.86609011 0.102767   0.54158255], a shape = (4,), a data type = float64\n",
      "NumPy routines which allocate memory and fill arrays with value\n",
      "np.zeros(4,) :  a = [[0. 0. 0. 0.]\n",
      " [0. 0. 0. 0.]\n",
      " [0. 0. 0. 0.]\n",
      " [0. 0. 0. 0.]], a shape = (4, 4), a data type = float64\n",
      "np.random.random_sample(4): a = [[0.81935641 0.27492705 0.01412064 0.33498257]\n",
      " [0.67179178 0.38092773 0.3487361  0.92849197]\n",
      " [0.13156726 0.47618986 0.37897459 0.51351715]\n",
      " [0.87977977 0.27779469 0.99613133 0.71763221]], a shape = (4, 4), a data type = float64\n"
     ]
    }
   ],
   "source": [
    "# NumPy routines which allocate memory and fill arrays with value\n",
    "a = np.zeros(4);                print(f\"np.zeros(4) :   a = {a}, a shape = {a.shape}, a data type = {a.dtype}\") #column vector\n",
    "a = np.zeros((4,));             print(f\"np.zeros(4,) :  a = {a}, a shape = {a.shape}, a data type = {a.dtype}\") #row vector\n",
    "a = np.random.random_sample(4); print(f\"np.random.random_sample(4): a = {a}, a shape = {a.shape}, a data type = {a.dtype}\") #random vector\n",
    "\n",
    "# NumPy routines which allocate memory and fill arrays with value\n",
    "print(\"NumPy routines which allocate memory and fill arrays with value\")\n",
    "a = np.zeros((4,4));             print(f\"np.zeros(4,) :  a = {a}, a shape = {a.shape}, a data type = {a.dtype}\") #row vector\n",
    "a = np.random.random_sample((4,4)); print(f\"np.random.random_sample(4): a = {a}, a shape = {a.shape}, a data type = {a.dtype}\") #random vector\n"
   ]
  },
  {
   "cell_type": "code",
   "execution_count": 8,
   "id": "309c585f",
   "metadata": {},
   "outputs": [
    {
     "name": "stdout",
     "output_type": "stream",
     "text": [
      "np.arange(4.):     a = [0. 1. 2. 3.], a shape = (4,), a data type = float64\n",
      "np.random.rand(4): a = [0.12636773 0.66553577 0.63246666 0.84687347], a shape = (4,), a data type = float64\n"
     ]
    }
   ],
   "source": [
    "# NumPy routines which allocate memory and fill arrays with value but do not accept shape as input argument\n",
    "a = np.arange(4.);              print(f\"np.arange(4.):     a = {a}, a shape = {a.shape}, a data type = {a.dtype}\")\n",
    "a = np.random.rand(4);          print(f\"np.random.rand(4): a = {a}, a shape = {a.shape}, a data type = {a.dtype}\")\n",
    "\n",
    "# difference between (4. ) and (4,) is that (4. ) is a row vector and \n",
    "# (4,) is a column vector"
   ]
  },
  {
   "cell_type": "markdown",
   "id": "31a1a007",
   "metadata": {},
   "source": [
    "Manually"
   ]
  },
  {
   "cell_type": "code",
   "execution_count": 9,
   "id": "3b3eb1fe",
   "metadata": {},
   "outputs": [
    {
     "name": "stdout",
     "output_type": "stream",
     "text": [
      "np.array([5,4,3,2]):  a = [5 4 3 2],     a shape = (4,), a data type = int64\n",
      "np.array([5.,4,3,2]): a = [5. 4. 3. 2.], a shape = (4,), a data type = float64\n"
     ]
    }
   ],
   "source": [
    "# NumPy routines which allocate memory and fill with user specified values\n",
    "a = np.array([5,4,3,2]);  print(f\"np.array([5,4,3,2]):  a = {a},     a shape = {a.shape}, a data type = {a.dtype}\")\n",
    "a = np.array([5.,4,3,2]); print(f\"np.array([5.,4,3,2]): a = {a}, a shape = {a.shape}, a data type = {a.dtype}\")"
   ]
  },
  {
   "cell_type": "markdown",
   "id": "da369937",
   "metadata": {},
   "source": [
    "You can access elements of a vector using indexing and slicing. NumPy offers a wide range of powerful options for both, but we’ll focus on the basics needed for this course. For more details, see the documentation on Slicing and Indexing.\n",
    "\n",
    "Indexing refers to selecting a single element of an array by its position.\n",
    "\n",
    "Slicing refers to retrieving a subset of elements from an array using index ranges.\n",
    "\n",
    "Note that NumPy uses zero-based indexing. This means the 3rd element of a vector a is accessed with a[2]."
   ]
  },
  {
   "cell_type": "code",
   "execution_count": 13,
   "id": "42bdf6cc",
   "metadata": {},
   "outputs": [
    {
     "name": "stdout",
     "output_type": "stream",
     "text": [
      "[0 1 2 3 4 5 6 7 8 9]\n",
      "a[2].shape: () a[2]  = 2, Accessing an element returns a scalar\n",
      "a[2]  = 2, Accessing an element returns a scalar\n",
      "a[-1] = 9\n",
      "The error message you'll see is:\n",
      "index 10 is out of bounds for axis 0 with size 10\n"
     ]
    }
   ],
   "source": [
    "#vector indexing operations on 1-D vectors\n",
    "a = np.arange(10)\n",
    "print(a)\n",
    "\n",
    "#access an element\n",
    "print(f\"a[2].shape: {a[2].shape} a[2]  = {a[2]}, Accessing an element returns a scalar\")\n",
    "# what is the a[2.shape? it is a scalar that means it is a single value and showing the shape of a[2] is showing the shape of a single value\n",
    "# by shape we mean the number of dimensions and the size of each dimension\n",
    "print(f\"a[2]  = {a[2]}, Accessing an element returns a scalar\")\n",
    "\n",
    "# access the last element, negative indexes count from the end\n",
    "print(f\"a[-1] = {a[-1]}\")\n",
    "\n",
    "#indexs must be within the range of the vector or they will produce and error\n",
    "try:\n",
    "    c = a[10]\n",
    "except Exception as e:\n",
    "    print(\"The error message you'll see is:\")\n",
    "    print(e)"
   ]
  },
  {
   "cell_type": "markdown",
   "id": "3076df8e",
   "metadata": {},
   "source": [
    "Slicing generates an array of indices defined by three parameters: start:stop:step. You can also provide just a subset of these values. The concept is best illustrated through examples:"
   ]
  },
  {
   "cell_type": "raw",
   "metadata": {
    "vscode": {
     "languageId": "raw"
    }
   },
   "source": [
    "\n"
   ]
  },
  {
   "cell_type": "code",
   "execution_count": null,
   "id": "4562d6f8",
   "metadata": {},
   "outputs": [],
   "source": [
    "\n"
   ]
  },
  {
   "cell_type": "code",
   "execution_count": 15,
   "id": "e0bfe243",
   "metadata": {},
   "outputs": [
    {
     "name": "stdout",
     "output_type": "stream",
     "text": [
      "a[2:6:1] =  [2 3 4 5]\n",
      "a[2:5:2] =  [2 4]\n",
      "a[2:]    =  [2 3 4 5 6 7 8 9]\n",
      "a[:4]    =  [0 1 2 3]\n",
      "a[:]     =  [0 1 2 3 4 5 6 7 8 9]\n",
      "a[::-1]  =  [9 8 7 6 5 4 3 2 1 0]\n"
     ]
    }
   ],
   "source": [
    "#access 4 consecutive elements (start:stop:step)\n",
    "c = a[2:6:1];     print(\"a[2:6:1] = \", c)\n",
    "# 2:6:1 means start from index 2 and end at index 6 and step is 1\n",
    "\n",
    "# access 2 elements separated by two \n",
    "c = a[2:5:2];     print(\"a[2:5:2] = \", c)\n",
    "# 2:5:2 means start from index 2 and end at index 5 and step is 2\n",
    "\n",
    "\n",
    "# access all elements index 2 and above\n",
    "c = a[2:];        print(\"a[2:]    = \", c)\n",
    "# 2: means start from index 2 and end at the last index\n",
    "\n",
    "\n",
    "# access all elements below index 4\n",
    "c = a[:4];        print(\"a[:4]    = \", c)\n",
    "# 4 means end at index 4\n",
    "\n",
    "\n",
    "# access all elements\n",
    "c = a[:];         print(\"a[:]     = \", c)\n",
    "# : means start from the first index and end at the last index\n",
    "\n",
    "# access all elements in reverse order\n",
    "c = a[::-1];     print(\"a[::-1]  = \", c)\n",
    "# -1 means step is -1 for reverse order"
   ]
  },
  {
   "cell_type": "markdown",
   "id": "66c66c3c",
   "metadata": {},
   "source": [
    "I can provide a few more alternatives with slightly different tones if you want. Do you want me to?"
   ]
  },
  {
   "cell_type": "code",
   "execution_count": 17,
   "id": "d8b9bee3",
   "metadata": {},
   "outputs": [
    {
     "name": "stdout",
     "output_type": "stream",
     "text": [
      "a             : [7 3 9 2 5]\n",
      "b = -a        : [-7 -3 -9 -2 -5]\n",
      "b = np.sum(a) : 26\n",
      "b = np.mean(a): 5.2\n",
      "b = a**2      : [49  9 81  4 25]\n"
     ]
    }
   ],
   "source": [
    "# Creating a NumPy array with different numbers\n",
    "a = np.array([7, 3, 9, 2, 5])  # Array with 5 elements\n",
    "print(f\"a             : {a}\")\n",
    "\n",
    "# Negate elements of a - applies negative sign to each element\n",
    "b = -a \n",
    "print(f\"b = -a        : {b}\")\n",
    "\n",
    "# Sum all elements of a, returns a scalar (single number)\n",
    "b = np.sum(a) \n",
    "print(f\"b = np.sum(a) : {b}\")\n",
    "\n",
    "# Calculate the mean (average) of all elements in a\n",
    "b = np.mean(a)\n",
    "print(f\"b = np.mean(a): {b}\")\n",
    "\n",
    "# Square each element of a (element-wise operation)\n",
    "b = a**2\n",
    "print(f\"b = a**2      : {b}\")"
   ]
  },
  {
   "cell_type": "markdown",
   "id": "9da0d1c4",
   "metadata": {},
   "source": [
    "Many of NumPy’s arithmetic, logical, and comparison operations can also be applied to vectors. These operators perform calculations element by element. For instance\n",
    "$$ c_i = a_i + b_i $$"
   ]
  },
  {
   "cell_type": "code",
   "execution_count": 23,
   "id": "2ca5e881",
   "metadata": {},
   "outputs": [
    {
     "name": "stdout",
     "output_type": "stream",
     "text": [
      "Binary operators work element wise: [0 0 6 8]\n",
      "Element-wise addition (a + b): [0 0 6 8]\n",
      "Element-wise subtraction (a - b): [2 4 0 0]\n",
      "Element-wise multiplication (a * b): [-1 -4  9 16]\n",
      "Element-wise division (a / b): [-1. -1.  1.  1.]\n",
      "Element-wise power (a ** 2): [ 1  4  9 16]\n"
     ]
    }
   ],
   "source": [
    "# Creating two NumPy arrays with different values\n",
    "a = np.array([1, 2, 3, 4])   # First array with positive values\n",
    "b = np.array([-1, -2, 3, 4]) # Second array with mixed positive and negative values\n",
    "\n",
    "# Binary operators work element-wise - they perform operations between corresponding elements\n",
    "print(f\"Binary operators work element wise: {a + b}\")\n",
    "\n",
    "# Let's demonstrate other binary operations for better understanding\n",
    "print(f\"Element-wise addition (a + b): {a + b}\")\n",
    "print(f\"Element-wise subtraction (a - b): {a - b}\")\n",
    "print(f\"Element-wise multiplication (a * b): {a * b}\")\n",
    "print(f\"Element-wise division (a / b): {a / b}\")\n",
    "print(f\"Element-wise power (a ** 2): {a ** 2}\")\n"
   ]
  },
  {
   "cell_type": "code",
   "execution_count": 28,
   "id": "cf48075f",
   "metadata": {},
   "outputs": [
    {
     "name": "stdout",
     "output_type": "stream",
     "text": [
      "=== VECTOR OPERATIONS ===\n",
      "Vector A: [10 20 30 40], shape: (4,)\n",
      "Vector B: [ 5 15 25 35], shape: (4,)\n",
      "Addition: [15 35 55 75]\n",
      "Broadcasting: [17 27 37 47]\n"
     ]
    }
   ],
   "source": [
    "# Demonstrating vector operations with different numbers\n",
    "print(\"=== VECTOR OPERATIONS ===\")\n",
    "\n",
    "# Create vectors with different numbers\n",
    "vector_a = np.array([10, 20, 30, 40])\n",
    "vector_b = np.array([5, 15, 25, 35])\n",
    "\n",
    "print(f\"Vector A: {vector_a}, shape: {vector_a.shape}\")\n",
    "print(f\"Vector B: {vector_b}, shape: {vector_b.shape}\")\n",
    "\n",
    "# Successful operations\n",
    "result_add = vector_a + vector_b\n",
    "print(f\"Addition: {result_add}\")\n",
    "\n",
    "# Broadcasting example\n",
    "scalar = 7\n",
    "broadcast_result = vector_a + scalar\n",
    "print(f\"Broadcasting: {broadcast_result}\")\n"
   ]
  },
  {
   "cell_type": "code",
   "execution_count": 26,
   "id": "fa1af3aa",
   "metadata": {},
   "outputs": [
    {
     "name": "stdout",
     "output_type": "stream",
     "text": [
      "\n",
      "=== INCOMPATIBLE OPERATIONS ===\n",
      "Main vector: [1 2 3 4 5], shape: (5,)\n",
      "Mismatched vector: [10 20], shape: (2,)\n",
      "The error message you'll see is:\n",
      "Error: operands could not be broadcast together with shapes (5,) (2,) \n",
      "This happens because arrays have incompatible shapes\n"
     ]
    }
   ],
   "source": [
    "\n",
    "print(\"\\n=== INCOMPATIBLE OPERATIONS ===\")\n",
    "\n",
    "# Mismatched vector operation that will fail\n",
    "main_vector = np.array([1, 2, 3, 4, 5])  # 5 elements\n",
    "mismatched_vector = np.array([10, 20])   # 2 elements\n",
    "\n",
    "print(f\"Main vector: {main_vector}, shape: {main_vector.shape}\")\n",
    "print(f\"Mismatched vector: {mismatched_vector}, shape: {mismatched_vector.shape}\")\n",
    "\n",
    "try:\n",
    "    failed_result = main_vector + mismatched_vector\n",
    "    print(f\"Unexpected success: {failed_result}\")\n",
    "except Exception as e:\n",
    "    print(\"The error message you'll see is:\")\n",
    "    print(f\"Error: {e}\")\n",
    "    print(\"This happens because arrays have incompatible shapes\")"
   ]
  },
  {
   "cell_type": "markdown",
   "id": "0919bd73",
   "metadata": {},
   "source": [
    "Vectors can be scaled using scalar values, which are simply numbers. When a vector is multiplied by a scalar, each of its elements is multiplied by that number."
   ]
  },
  {
   "cell_type": "code",
   "execution_count": 31,
   "id": "81d30096",
   "metadata": {},
   "outputs": [
    {
     "name": "stdout",
     "output_type": "stream",
     "text": [
      "b = 3 * a : [21 36 45 24]\n",
      "d = a + c : [ 9 17 18  9]\n",
      "e = a * c : [14 60 45  8]\n"
     ]
    }
   ],
   "source": [
    "# Create a sample vector with new values\n",
    "a = np.array([7, 12, 15, 8])\n",
    "\n",
    "# Scalar multiplication: multiply each element by a constant\n",
    "b = 3 * a \n",
    "print(f\"b = 3 * a : {b}\")\n",
    "\n",
    "# Vector addition: add corresponding elements of two vectors\n",
    "c = np.array([2, 5, 3, 1])\n",
    "d = a + c\n",
    "print(f\"d = a + c : {d}\")\n",
    "\n",
    "# Element-wise multiplication: multiply corresponding elements\n",
    "e = a * c\n",
    "print(f\"e = a * c : {e}\")"
   ]
  },
  {
   "cell_type": "markdown",
   "id": "cb5ebed2",
   "metadata": {},
   "source": [
    "The dot product is a fundamental concept in Linear Algebra and a core operation in NumPy. It is used extensively throughout this course, so it’s important to understand it thoroughly. The dot product is illustrated below.\n",
    "\n",
    "example:\n",
    "$$ x = \\sum_{i=0}^{n-1} a_i b_i $$\n",
    "Assume both `a` and `b` are the same shape."
   ]
  },
  {
   "cell_type": "code",
   "execution_count": 32,
   "id": "f20516e9",
   "metadata": {},
   "outputs": [],
   "source": [
    "def my_dot(a, b): \n",
    "    \"\"\"\n",
    "    Compute the dot product of two vectors using NumPy dot function\n",
    "    \n",
    "    Args:\n",
    "      a (ndarray (n,)):  input vector \n",
    "      b (ndarray (n,)):  input vector with same dimension as a\n",
    "    \n",
    "    Returns:\n",
    "      x (scalar): dot product of vectors a and b\n",
    "    \"\"\"\n",
    "    x = np.dot(a, b)\n",
    "    return x"
   ]
  },
  {
   "cell_type": "code",
   "execution_count": 33,
   "id": "e62502c2",
   "metadata": {},
   "outputs": [
    {
     "name": "stdout",
     "output_type": "stream",
     "text": [
      "Dot product of [1 2 3 4] and [5 6 7 8] = 70\n",
      "Manual calculation: 70\n"
     ]
    }
   ],
   "source": [
    "\n",
    "# Example usage\n",
    "a = np.array([1, 2, 3, 4])\n",
    "b = np.array([5, 6, 7, 8])\n",
    "\n",
    "result = my_dot(a, b)\n",
    "print(f\"Dot product of {a} and {b} = {result}\")\n",
    "\n",
    "# Verification: manual calculation\n",
    "manual_result = 1*5 + 2*6 + 3*7 + 4*8\n",
    "print(f\"Manual calculation: {manual_result}\")"
   ]
  },
  {
   "cell_type": "markdown",
   "id": "45fd4e4b",
   "metadata": {},
   "source": [
    "Without numpy:"
   ]
  },
  {
   "cell_type": "code",
   "execution_count": 36,
   "id": "2b05cff4",
   "metadata": {},
   "outputs": [],
   "source": [
    "def my_dot_loop(a, b): \n",
    "    \"\"\"\n",
    "    Compute the dot product of two vectors using a manual loop\n",
    " \n",
    "    \"\"\"\n",
    "    x = 0\n",
    "    for i in range(a.shape[0]):\n",
    "        x = x + a[i] * b[i]\n",
    "    return x\n"
   ]
  },
  {
   "cell_type": "markdown",
   "id": "5b36bd89",
   "metadata": {},
   "source": [
    "Speed Test:"
   ]
  },
  {
   "cell_type": "code",
   "execution_count": null,
   "id": "14a0b804",
   "metadata": {},
   "outputs": [
    {
     "name": "stdout",
     "output_type": "stream",
     "text": [
      "\n",
      "Testing with vectors of size 100:\n",
      "Results match: True\n",
      "Loop method:   0.000028 seconds\n",
      "NumPy dot:     0.000039 seconds\n",
      "Speedup:       0.72x\n",
      "\n",
      "Testing with vectors of size 1000:\n",
      "Results match: True\n",
      "Loop method:   0.000158 seconds\n",
      "NumPy dot:     0.000004 seconds\n",
      "Speedup:       44.13x\n",
      "\n",
      "Testing with vectors of size 10000:\n",
      "Results match: True\n",
      "Loop method:   0.001542 seconds\n",
      "NumPy dot:     0.000008 seconds\n",
      "Speedup:       196.03x\n",
      "\n",
      "Testing with vectors of size 100000:\n",
      "Results match: True\n",
      "Loop method:   0.016599 seconds\n",
      "NumPy dot:     0.001039 seconds\n",
      "Speedup:       15.98x\n"
     ]
    }
   ],
   "source": [
    "def speed_test():\n",
    "    \"\"\"\n",
    "    Test the speed of loop vs NumPy dot implementations\n",
    "    \"\"\"\n",
    "    # Test with different vector sizes\n",
    "    # to print the time it took for each method to run\n",
    "    sizes = [100, 1000, 10000, 100000]\n",
    "    \n",
    "    for size in sizes:\n",
    "        print(f\"\\nTesting with vectors of size {size}:\")\n",
    "        \n",
    "        # Create random vectors\n",
    "        a = np.random.rand(size)\n",
    "        b = np.random.rand(size)\n",
    "        \n",
    "        # Test loop implementation\n",
    "        start_time = time.time()\n",
    "        result_loop = my_dot_loop(a, b)\n",
    "        loop_time = time.time() - start_time\n",
    "        \n",
    "        # Test NumPy dot implementation\n",
    "        start_time = time.time()\n",
    "        result_numpy = my_dot(a, b)\n",
    "        numpy_time = time.time() - start_time\n",
    "        \n",
    "        # Verify both methods give the same result\n",
    "        print(f\"Results match: {np.allclose(result_loop, result_numpy)}\") \n",
    "        # np.allclose is a function that checks if two arrays are equal\n",
    "        # I am doing this to make sure that the two methods give the same result\n",
    "        # then I am printing the time it took for each method to run\n",
    "\n",
    "        print(f\"Loop method:   {loop_time:.6f} seconds\")\n",
    "        print(f\"NumPy dot:     {numpy_time:.6f} seconds\")\n",
    "        print(f\"Speedup:       {loop_time/numpy_time:.2f}x\")\n",
    "\n",
    "# Run the speed test\n",
    "speed_test()"
   ]
  },
  {
   "cell_type": "code",
   "execution_count": null,
   "id": "8a447baf",
   "metadata": {},
   "outputs": [],
   "source": []
  }
 ],
 "metadata": {
  "kernelspec": {
   "display_name": "ml_env",
   "language": "python",
   "name": "python3"
  },
  "language_info": {
   "codemirror_mode": {
    "name": "ipython",
    "version": 3
   },
   "file_extension": ".py",
   "mimetype": "text/x-python",
   "name": "python",
   "nbconvert_exporter": "python",
   "pygments_lexer": "ipython3",
   "version": "3.13.2"
  }
 },
 "nbformat": 4,
 "nbformat_minor": 5
}
